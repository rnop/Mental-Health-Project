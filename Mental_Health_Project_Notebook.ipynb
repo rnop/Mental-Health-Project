{
  "nbformat": 4,
  "nbformat_minor": 0,
  "metadata": {
    "colab": {
      "name": "Mental Health Project Notebook.ipynb",
      "provenance": [],
      "collapsed_sections": [],
      "authorship_tag": "ABX9TyP13bCOjtF3Kq1gkL0jGmiG",
      "include_colab_link": true
    },
    "kernelspec": {
      "name": "python3",
      "display_name": "Python 3"
    },
    "language_info": {
      "name": "python"
    }
  },
  "cells": [
    {
      "cell_type": "markdown",
      "metadata": {
        "id": "view-in-github",
        "colab_type": "text"
      },
      "source": [
        "<a href=\"https://colab.research.google.com/github/rnop/Mental-Health-Project/blob/main/Mental_Health_Project_Notebook.ipynb\" target=\"_parent\"><img src=\"https://colab.research.google.com/assets/colab-badge.svg\" alt=\"Open In Colab\"/></a>"
      ]
    },
    {
      "cell_type": "markdown",
      "metadata": {
        "id": "6hv3x3xgUvAE"
      },
      "source": [
        "## Mental Health in the Tech Industry\n",
        "\n",
        "### Introduction\n",
        "Mental health encompasses our emotional and psychological well-being that influences the way we perceive and behave to the environment around us. Some of us are stressed, overworked, struggling with new environments, or afraid of uncertainty. But thinking proactively about mental health can help improve your experiences and overall well-being. Having positive mental health will allow you to unlock your full potential and allow you to work effectively against the challenges that await you in life.\n",
        "\n",
        "### The Data Set\n",
        "The data comes from the Open Source Mental Illness (OSMI) non-profit organization (https://osmihelp.org/) and contains 105 questions that were asked to individuals working in the tech industry from 2014 to 2019. \n",
        "\n",
        "The relational database contains 3 tables: \n",
        "* Question - lists 105 questions asked in the survey\n",
        "* Answer - contains each user's answers to survey questions\n",
        "* Survey - defines the year the survey was conducted\n",
        "\n",
        "### Libraries\n",
        "* SQL \n",
        "* Pandas \n",
        "* Matplotlib\n",
        "* Seaborn "
      ]
    },
    {
      "cell_type": "code",
      "metadata": {
        "id": "k7vNUPmgL7hZ"
      },
      "source": [
        "import sqlite3\n",
        "import pandas as pd\n",
        "\n",
        "import matplotlib.pyplot as plt\n",
        "import seaborn as sns\n",
        "%matplotlib inline\n",
        "# %config InlineBackend.figure_formats = ['svg']"
      ],
      "execution_count": 1,
      "outputs": []
    },
    {
      "cell_type": "code",
      "metadata": {
        "id": "JegawTOaOaV8"
      },
      "source": [
        "# Open connection to db\n",
        "conn = sqlite3.connect('mental_health.sqlite')"
      ],
      "execution_count": 2,
      "outputs": []
    },
    {
      "cell_type": "code",
      "metadata": {
        "colab": {
          "base_uri": "https://localhost:8080/"
        },
        "id": "L-1tb45yUCYO",
        "outputId": "9284b195-98f5-4bf9-cbc9-b1bfbb8d22f3"
      },
      "source": [
        "def print_schema(table_name, connection):\n",
        "  cur = connection.cursor()\n",
        "  query = \"pragma table_info({})\".format(table_name)\n",
        "  table_info = cur.execute(query).fetchall()\n",
        "  print(\"Table Schema for:\", table_name)\n",
        "  for row in table_info:\n",
        "    print(row)\n",
        "  print()\n",
        "  cur.close()\n",
        "\n",
        "print_schema('Answer', conn)\n",
        "print_schema('Question', conn)\n",
        "print_schema('Survey', conn)"
      ],
      "execution_count": 3,
      "outputs": [
        {
          "output_type": "stream",
          "name": "stdout",
          "text": [
            "Table Schema for: Answer\n",
            "(0, 'AnswerText', 'VARCHAR(10000)', 0, None, 0)\n",
            "(1, 'SurveyID', 'INTEGER', 0, None, 0)\n",
            "(2, 'UserID', 'INTEGER', 0, None, 0)\n",
            "(3, 'QuestionID', 'INTEGER', 0, None, 0)\n",
            "\n",
            "Table Schema for: Question\n",
            "(0, 'questiontext', 'VARCHAR(1000)', 0, None, 0)\n",
            "(1, 'questionid', 'INTEGER', 0, None, 0)\n",
            "\n",
            "Table Schema for: Survey\n",
            "(0, 'SurveyID', 'INTEGER', 1, None, 1)\n",
            "(1, 'Description', 'VARCHAR(255)', 0, None, 0)\n",
            "\n"
          ]
        }
      ]
    },
    {
      "cell_type": "code",
      "metadata": {
        "colab": {
          "base_uri": "https://localhost:8080/",
          "height": 224
        },
        "id": "bGB0ER0lOrjz",
        "outputId": "e7d5e004-2fbe-4756-d5bc-93269690e76f"
      },
      "source": [
        "# Answer Table\n",
        "query = \"\"\"\n",
        "        SELECT * FROM Answer \n",
        "        \"\"\"\n",
        "answer_df = pd.read_sql(query, conn)\n",
        "print(answer_df.shape)\n",
        "answer_df.head()"
      ],
      "execution_count": 4,
      "outputs": [
        {
          "output_type": "stream",
          "name": "stdout",
          "text": [
            "(236898, 4)\n"
          ]
        },
        {
          "output_type": "execute_result",
          "data": {
            "text/html": [
              "<div>\n",
              "<style scoped>\n",
              "    .dataframe tbody tr th:only-of-type {\n",
              "        vertical-align: middle;\n",
              "    }\n",
              "\n",
              "    .dataframe tbody tr th {\n",
              "        vertical-align: top;\n",
              "    }\n",
              "\n",
              "    .dataframe thead th {\n",
              "        text-align: right;\n",
              "    }\n",
              "</style>\n",
              "<table border=\"1\" class=\"dataframe\">\n",
              "  <thead>\n",
              "    <tr style=\"text-align: right;\">\n",
              "      <th></th>\n",
              "      <th>AnswerText</th>\n",
              "      <th>SurveyID</th>\n",
              "      <th>UserID</th>\n",
              "      <th>QuestionID</th>\n",
              "    </tr>\n",
              "  </thead>\n",
              "  <tbody>\n",
              "    <tr>\n",
              "      <th>0</th>\n",
              "      <td>37</td>\n",
              "      <td>2014</td>\n",
              "      <td>1</td>\n",
              "      <td>1</td>\n",
              "    </tr>\n",
              "    <tr>\n",
              "      <th>1</th>\n",
              "      <td>44</td>\n",
              "      <td>2014</td>\n",
              "      <td>2</td>\n",
              "      <td>1</td>\n",
              "    </tr>\n",
              "    <tr>\n",
              "      <th>2</th>\n",
              "      <td>32</td>\n",
              "      <td>2014</td>\n",
              "      <td>3</td>\n",
              "      <td>1</td>\n",
              "    </tr>\n",
              "    <tr>\n",
              "      <th>3</th>\n",
              "      <td>31</td>\n",
              "      <td>2014</td>\n",
              "      <td>4</td>\n",
              "      <td>1</td>\n",
              "    </tr>\n",
              "    <tr>\n",
              "      <th>4</th>\n",
              "      <td>31</td>\n",
              "      <td>2014</td>\n",
              "      <td>5</td>\n",
              "      <td>1</td>\n",
              "    </tr>\n",
              "  </tbody>\n",
              "</table>\n",
              "</div>"
            ],
            "text/plain": [
              "  AnswerText  SurveyID  UserID  QuestionID\n",
              "0         37      2014       1           1\n",
              "1         44      2014       2           1\n",
              "2         32      2014       3           1\n",
              "3         31      2014       4           1\n",
              "4         31      2014       5           1"
            ]
          },
          "metadata": {},
          "execution_count": 4
        }
      ]
    },
    {
      "cell_type": "code",
      "metadata": {
        "colab": {
          "base_uri": "https://localhost:8080/",
          "height": 224
        },
        "id": "nLU1YtdnOrg2",
        "outputId": "d944364d-64d5-4e68-a7c5-e5fcac0a4e8b"
      },
      "source": [
        "# Question Table\n",
        "query = \"\"\"\n",
        "        SELECT * FROM Question \n",
        "        \"\"\"\n",
        "question_df = pd.read_sql(query, conn)\n",
        "print(question_df.shape)\n",
        "question_df.head()"
      ],
      "execution_count": 5,
      "outputs": [
        {
          "output_type": "stream",
          "name": "stdout",
          "text": [
            "(105, 2)\n"
          ]
        },
        {
          "output_type": "execute_result",
          "data": {
            "text/html": [
              "<div>\n",
              "<style scoped>\n",
              "    .dataframe tbody tr th:only-of-type {\n",
              "        vertical-align: middle;\n",
              "    }\n",
              "\n",
              "    .dataframe tbody tr th {\n",
              "        vertical-align: top;\n",
              "    }\n",
              "\n",
              "    .dataframe thead th {\n",
              "        text-align: right;\n",
              "    }\n",
              "</style>\n",
              "<table border=\"1\" class=\"dataframe\">\n",
              "  <thead>\n",
              "    <tr style=\"text-align: right;\">\n",
              "      <th></th>\n",
              "      <th>questiontext</th>\n",
              "      <th>questionid</th>\n",
              "    </tr>\n",
              "  </thead>\n",
              "  <tbody>\n",
              "    <tr>\n",
              "      <th>0</th>\n",
              "      <td>What is your age?</td>\n",
              "      <td>1</td>\n",
              "    </tr>\n",
              "    <tr>\n",
              "      <th>1</th>\n",
              "      <td>What is your gender?</td>\n",
              "      <td>2</td>\n",
              "    </tr>\n",
              "    <tr>\n",
              "      <th>2</th>\n",
              "      <td>What country do you live in?</td>\n",
              "      <td>3</td>\n",
              "    </tr>\n",
              "    <tr>\n",
              "      <th>3</th>\n",
              "      <td>If you live in the United States, which state ...</td>\n",
              "      <td>4</td>\n",
              "    </tr>\n",
              "    <tr>\n",
              "      <th>4</th>\n",
              "      <td>Are you self-employed?</td>\n",
              "      <td>5</td>\n",
              "    </tr>\n",
              "  </tbody>\n",
              "</table>\n",
              "</div>"
            ],
            "text/plain": [
              "                                        questiontext  questionid\n",
              "0                                  What is your age?           1\n",
              "1                               What is your gender?           2\n",
              "2                       What country do you live in?           3\n",
              "3  If you live in the United States, which state ...           4\n",
              "4                             Are you self-employed?           5"
            ]
          },
          "metadata": {},
          "execution_count": 5
        }
      ]
    },
    {
      "cell_type": "code",
      "metadata": {
        "colab": {
          "base_uri": "https://localhost:8080/",
          "height": 162
        },
        "id": "VxhsmKV8Smh5",
        "outputId": "64fea6de-df0e-457b-f545-9dca6e159e29"
      },
      "source": [
        "# Survey Table\n",
        "query = \"\"\"\n",
        "        SELECT * FROM Survey \n",
        "        LIMIT 3\n",
        "        \"\"\"\n",
        "survey_df = pd.read_sql(query, conn)\n",
        "print(survey_df.shape)\n",
        "survey_df.head()"
      ],
      "execution_count": 6,
      "outputs": [
        {
          "output_type": "stream",
          "name": "stdout",
          "text": [
            "(3, 2)\n"
          ]
        },
        {
          "output_type": "execute_result",
          "data": {
            "text/html": [
              "<div>\n",
              "<style scoped>\n",
              "    .dataframe tbody tr th:only-of-type {\n",
              "        vertical-align: middle;\n",
              "    }\n",
              "\n",
              "    .dataframe tbody tr th {\n",
              "        vertical-align: top;\n",
              "    }\n",
              "\n",
              "    .dataframe thead th {\n",
              "        text-align: right;\n",
              "    }\n",
              "</style>\n",
              "<table border=\"1\" class=\"dataframe\">\n",
              "  <thead>\n",
              "    <tr style=\"text-align: right;\">\n",
              "      <th></th>\n",
              "      <th>SurveyID</th>\n",
              "      <th>Description</th>\n",
              "    </tr>\n",
              "  </thead>\n",
              "  <tbody>\n",
              "    <tr>\n",
              "      <th>0</th>\n",
              "      <td>2014</td>\n",
              "      <td>mental health survey for 2014</td>\n",
              "    </tr>\n",
              "    <tr>\n",
              "      <th>1</th>\n",
              "      <td>2016</td>\n",
              "      <td>mental health survey for 2016</td>\n",
              "    </tr>\n",
              "    <tr>\n",
              "      <th>2</th>\n",
              "      <td>2017</td>\n",
              "      <td>mental health survey for 2017</td>\n",
              "    </tr>\n",
              "  </tbody>\n",
              "</table>\n",
              "</div>"
            ],
            "text/plain": [
              "   SurveyID                    Description\n",
              "0      2014  mental health survey for 2014\n",
              "1      2016  mental health survey for 2016\n",
              "2      2017  mental health survey for 2017"
            ]
          },
          "metadata": {},
          "execution_count": 6
        }
      ]
    },
    {
      "cell_type": "markdown",
      "metadata": {
        "id": "AkwWO0AaXRdh"
      },
      "source": [
        "### Join Question and Answer Tables"
      ]
    },
    {
      "cell_type": "code",
      "metadata": {
        "colab": {
          "base_uri": "https://localhost:8080/",
          "height": 206
        },
        "id": "IIt5NQrvVRpJ",
        "outputId": "f28f9586-7b41-494a-d7b7-9b912e41a1b7"
      },
      "source": [
        "query = \"\"\"\n",
        "        SELECT q.questiontext, a.AnswerText, a.UserID, a.SurveyID \n",
        "        FROM Question AS q\n",
        "        INNER JOIN Answer as a\n",
        "          ON q.questionid = a.QuestionID \n",
        "        ORDER BY a.UserID, q.questionid\n",
        "        \"\"\"\n",
        "df = pd.read_sql(query, conn)\n",
        "df.head()"
      ],
      "execution_count": 7,
      "outputs": [
        {
          "output_type": "execute_result",
          "data": {
            "text/html": [
              "<div>\n",
              "<style scoped>\n",
              "    .dataframe tbody tr th:only-of-type {\n",
              "        vertical-align: middle;\n",
              "    }\n",
              "\n",
              "    .dataframe tbody tr th {\n",
              "        vertical-align: top;\n",
              "    }\n",
              "\n",
              "    .dataframe thead th {\n",
              "        text-align: right;\n",
              "    }\n",
              "</style>\n",
              "<table border=\"1\" class=\"dataframe\">\n",
              "  <thead>\n",
              "    <tr style=\"text-align: right;\">\n",
              "      <th></th>\n",
              "      <th>questiontext</th>\n",
              "      <th>AnswerText</th>\n",
              "      <th>UserID</th>\n",
              "      <th>SurveyID</th>\n",
              "    </tr>\n",
              "  </thead>\n",
              "  <tbody>\n",
              "    <tr>\n",
              "      <th>0</th>\n",
              "      <td>What is your age?</td>\n",
              "      <td>37</td>\n",
              "      <td>1</td>\n",
              "      <td>2014</td>\n",
              "    </tr>\n",
              "    <tr>\n",
              "      <th>1</th>\n",
              "      <td>What is your gender?</td>\n",
              "      <td>Female</td>\n",
              "      <td>1</td>\n",
              "      <td>2014</td>\n",
              "    </tr>\n",
              "    <tr>\n",
              "      <th>2</th>\n",
              "      <td>What country do you live in?</td>\n",
              "      <td>United States</td>\n",
              "      <td>1</td>\n",
              "      <td>2014</td>\n",
              "    </tr>\n",
              "    <tr>\n",
              "      <th>3</th>\n",
              "      <td>If you live in the United States, which state ...</td>\n",
              "      <td>Illinois</td>\n",
              "      <td>1</td>\n",
              "      <td>2014</td>\n",
              "    </tr>\n",
              "    <tr>\n",
              "      <th>4</th>\n",
              "      <td>Are you self-employed?</td>\n",
              "      <td>-1</td>\n",
              "      <td>1</td>\n",
              "      <td>2014</td>\n",
              "    </tr>\n",
              "  </tbody>\n",
              "</table>\n",
              "</div>"
            ],
            "text/plain": [
              "                                        questiontext  ... SurveyID\n",
              "0                                  What is your age?  ...     2014\n",
              "1                               What is your gender?  ...     2014\n",
              "2                       What country do you live in?  ...     2014\n",
              "3  If you live in the United States, which state ...  ...     2014\n",
              "4                             Are you self-employed?  ...     2014\n",
              "\n",
              "[5 rows x 4 columns]"
            ]
          },
          "metadata": {},
          "execution_count": 7
        }
      ]
    },
    {
      "cell_type": "markdown",
      "metadata": {
        "id": "jDt2BI6-kLEh"
      },
      "source": [
        "### Count Unique Number of Users and Unique Number of Questions"
      ]
    },
    {
      "cell_type": "code",
      "metadata": {
        "colab": {
          "base_uri": "https://localhost:8080/",
          "height": 81
        },
        "id": "saxDHMnNjNkN",
        "outputId": "26e1e194-8de9-40a2-85c0-48856130b446"
      },
      "source": [
        "query = \"\"\"\n",
        "        SELECT COUNT(DISTINCT UserID) AS Number_Unique_Users,\n",
        "               COUNT(DISTINCT QuestionID) AS Number_Unique_Questions\n",
        "        FROM Answer\n",
        "        \"\"\"\n",
        "counts = pd.read_sql(query, conn)\n",
        "counts"
      ],
      "execution_count": 8,
      "outputs": [
        {
          "output_type": "execute_result",
          "data": {
            "text/html": [
              "<div>\n",
              "<style scoped>\n",
              "    .dataframe tbody tr th:only-of-type {\n",
              "        vertical-align: middle;\n",
              "    }\n",
              "\n",
              "    .dataframe tbody tr th {\n",
              "        vertical-align: top;\n",
              "    }\n",
              "\n",
              "    .dataframe thead th {\n",
              "        text-align: right;\n",
              "    }\n",
              "</style>\n",
              "<table border=\"1\" class=\"dataframe\">\n",
              "  <thead>\n",
              "    <tr style=\"text-align: right;\">\n",
              "      <th></th>\n",
              "      <th>Number_Unique_Users</th>\n",
              "      <th>Number_Unique_Questions</th>\n",
              "    </tr>\n",
              "  </thead>\n",
              "  <tbody>\n",
              "    <tr>\n",
              "      <th>0</th>\n",
              "      <td>4218</td>\n",
              "      <td>105</td>\n",
              "    </tr>\n",
              "  </tbody>\n",
              "</table>\n",
              "</div>"
            ],
            "text/plain": [
              "   Number_Unique_Users  Number_Unique_Questions\n",
              "0                 4218                      105"
            ]
          },
          "metadata": {},
          "execution_count": 8
        }
      ]
    },
    {
      "cell_type": "markdown",
      "metadata": {
        "id": "G3YQO-4MkQh1"
      },
      "source": [
        "### Check for Missing Answer Values"
      ]
    },
    {
      "cell_type": "code",
      "metadata": {
        "colab": {
          "base_uri": "https://localhost:8080/",
          "height": 50
        },
        "id": "Mmi4RImHVOiE",
        "outputId": "72250d3f-8bdc-48ae-9f7c-d97e6a3f8059"
      },
      "source": [
        "query = \"\"\"\n",
        "        SELECT q.questiontext, a.AnswerText, a.UserID, a.SurveyID FROM Question AS q\n",
        "        INNER JOIN Answer as a\n",
        "          ON q.questionid = a.QuestionID\n",
        "        WHERE a.AnswerText IS NULL\n",
        "        ORDER BY a.UserID, q.questionid\n",
        "        \"\"\"\n",
        "nulls = pd.read_sql(query, conn)\n",
        "nulls"
      ],
      "execution_count": 9,
      "outputs": [
        {
          "output_type": "execute_result",
          "data": {
            "text/html": [
              "<div>\n",
              "<style scoped>\n",
              "    .dataframe tbody tr th:only-of-type {\n",
              "        vertical-align: middle;\n",
              "    }\n",
              "\n",
              "    .dataframe tbody tr th {\n",
              "        vertical-align: top;\n",
              "    }\n",
              "\n",
              "    .dataframe thead th {\n",
              "        text-align: right;\n",
              "    }\n",
              "</style>\n",
              "<table border=\"1\" class=\"dataframe\">\n",
              "  <thead>\n",
              "    <tr style=\"text-align: right;\">\n",
              "      <th></th>\n",
              "      <th>questiontext</th>\n",
              "      <th>AnswerText</th>\n",
              "      <th>UserID</th>\n",
              "      <th>SurveyID</th>\n",
              "    </tr>\n",
              "  </thead>\n",
              "  <tbody>\n",
              "  </tbody>\n",
              "</table>\n",
              "</div>"
            ],
            "text/plain": [
              "Empty DataFrame\n",
              "Columns: [questiontext, AnswerText, UserID, SurveyID]\n",
              "Index: []"
            ]
          },
          "metadata": {},
          "execution_count": 9
        }
      ]
    },
    {
      "cell_type": "markdown",
      "metadata": {
        "id": "HgcxlgtYZB5g"
      },
      "source": [
        "### List of All the Questions:"
      ]
    },
    {
      "cell_type": "code",
      "metadata": {
        "colab": {
          "base_uri": "https://localhost:8080/"
        },
        "id": "rB58FigJVOft",
        "outputId": "c83872db-4ac5-4d1d-dcc1-44995dc1b755"
      },
      "source": [
        "print(\"List of Questions:\")\n",
        "for idx, question in enumerate(df['questiontext'].unique()):\n",
        "  print(idx+1, question)"
      ],
      "execution_count": 10,
      "outputs": [
        {
          "output_type": "stream",
          "name": "stdout",
          "text": [
            "List of Questions:\n",
            "1 What is your age?\n",
            "2 What is your gender?\n",
            "3 What country do you live in?\n",
            "4 If you live in the United States, which state or territory do you live in?\n",
            "5 Are you self-employed?\n",
            "6 Do you have a family history of mental illness?\n",
            "7 Have you ever sought treatment for a mental health disorder from a mental health professional?\n",
            "8 How many employees does your company or organization have?\n",
            "9 Is your employer primarily a tech company/organization?\n",
            "10 Does your employer provide mental health benefits as part of healthcare coverage?\n",
            "11 Is your anonymity protected if you choose to take advantage of mental health or substance abuse treatment resources provided by your employer?\n",
            "12 Would you bring up a mental health issue with a potential employer in an interview?\n",
            "13 Do you think that discussing a physical health issue with your employer would have negative consequences?\n",
            "14 Do you feel that your employer takes mental health as seriously as physical health?\n",
            "15 If you have a mental health condition, do you feel that it interferes with your work?\n",
            "16 Do you work remotely (outside of an office) at least 50% of the time?\n",
            "17 Do you know the options for mental health care your employer provides?\n",
            "18 Has your employer ever discussed mental health as part of an employee wellness program?\n",
            "19 Does your employer provide resources to learn more about mental health issues and how to seek help?\n",
            "20 How easy is it for you to take medical leave for a mental health condition?\n",
            "21 Do you think that discussing a mental health issue with your employer would have negative consequences?\n",
            "22 Would you be willing to discuss a mental health issue with your coworkers?\n",
            "23 Would you be willing to discuss a mental health issue with your direct supervisor(s)?\n",
            "24 Would you bring up a physical health issue with a potential employer in an interview?\n",
            "25 Have you heard of or observed negative consequences for coworkers with mental health conditions in your workplace?\n",
            "26 Any additional notes or comments\n",
            "27 Is your primary role within your company related to tech/IT?\n",
            "28 Do you know the options for mental health care available under your employer-provided health coverage?\n",
            "29 Has your employer ever formally discussed mental health (for example, as part of a wellness campaign or other official communication)?\n",
            "30 Does your employer offer resources to learn more about mental health disorders and options for seeking help?\n",
            "31 If a mental health issue prompted you to request a medical leave from work, how easy or difficult would it be to ask for that leave?\n",
            "32 Would you feel comfortable discussing a mental health issue with your coworkers?\n",
            "33 Would you feel comfortable discussing a mental health issue with your direct supervisor(s)?\n",
            "34 Do you have medical coverage (private insurance or state-provided) that includes treatment of mental health disorders?\n",
            "35 Do you know local or online resources to seek help for a mental health issue?\n",
            "36 Do you have previous employers?\n",
            "37 Have your previous employers provided mental health benefits?\n",
            "38 Were you aware of the options for mental health care provided by your previous employers?\n",
            "39 Did your previous employers ever formally discuss mental health (as part of a wellness campaign or other official communication)?\n",
            "40 Did your previous employers provide resources to learn more about mental health disorders and how to seek help?\n",
            "41 Was your anonymity protected if you chose to take advantage of mental health or substance abuse treatment resources with previous employers?\n",
            "42 Would you have been willing to discuss your mental health with your direct supervisor(s)?\n",
            "43 Would you be willing to bring up a physical health issue with a potential employer in an interview?\n",
            "44 How willing would you be to share with friends and family that you have a mental illness?\n",
            "45 Have your observations of how another individual who discussed a mental health disorder made you less likely to reveal a mental health issue yourself in your current workplace?\n",
            "46 Have you had a mental health disorder in the past?\n",
            "47 Do you currently have a mental health disorder?\n",
            "48 Have you ever been diagnosed with a mental health disorder?\n",
            "49 If you have a mental health disorder, how often do you feel that it interferes with your work when being treated effectively?\n",
            "50 If you have a mental health disorder, how often do you feel that it interferes with your work when not being treated effectively (i.e., when you are experiencing symptoms)?\n",
            "51 What country do you work in?\n",
            "52 What US state or territory do you work in?\n",
            "53 If you have been diagnosed or treated for a mental health disorder, do you ever reveal this to clients or business contacts?\n",
            "54 If you have been diagnosed or treated for a mental health disorder, do you ever reveal this to coworkers or employees?\n",
            "55 Do you believe your productivity is ever affected by a mental health issue?\n",
            "56 If yes, what percentage of your work time (time performing primary or secondary job functions) is affected by a mental health issue?\n",
            "57 Have you observed or experienced an unsupportive or badly handled response to a mental health issue in your current or previous workplace?\n",
            "58 Do you think that discussing a mental health disorder with your employer would have negative consequences?\n",
            "59 Have you heard of or observed negative consequences for co-workers who have been open about mental health issues in your workplace?\n",
            "60 If you have revealed a mental health issue to a client or business contact, do you believe this has impacted you negatively?\n",
            "61 If you have revealed a mental health issue to a coworker or employee, do you believe this has impacted you negatively?\n",
            "62 Do you think that discussing a mental health disorder with previous employers would have negative consequences?\n",
            "63 Do you think that discussing a physical health issue with previous employers would have negative consequences?\n",
            "64 Would you have been willing to discuss a mental health issue with your previous co-workers?\n",
            "65 Did you feel that your previous employers took mental health as seriously as physical health?\n",
            "66 Did you hear of or observe negative consequences for co-workers with mental health issues in your previous workplaces?\n",
            "67 Do you feel that being identified as a person with a mental health issue would hurt your career?\n",
            "68 Do you think that team members/co-workers would view you more negatively if they knew you suffered from a mental health issue?\n",
            "69 If yes, what condition(s) have you been diagnosed with?\n",
            "70 If maybe, what condition(s) do you believe you have?\n",
            "71 Which of the following best describes your work position?\n",
            "72 Do you work remotely?\n",
            "73 Would you feel more comfortable talking to your coworkers about your physical health or your mental health?\n",
            "74 Have you ever discussed your mental health with your employer?\n",
            "75 Describe the conversation you had with your employer about your mental health, including their reactions and what actions were taken to address your mental health issue/questions.\n",
            "76 Have you ever discussed your mental health with coworkers?\n",
            "77 Describe the conversation with coworkers you had about your mental health including their reactions.\n",
            "78 Have you ever had a coworker discuss their or another coworker's mental health with you?\n",
            "79 Describe the conversation your coworker had with you about their mental health (please do not use names).\n",
            "80 Overall, how much importance does your employer place on physical health?\n",
            "81 Overall, how much importance does your employer place on mental health?\n",
            "82 If you have revealed a mental health disorder to a client or business contact, how has this affected you or the relationship?\n",
            "83 If you have revealed a mental health disorder to a coworker or employee, how has this impacted you or the relationship?\n",
            "84 Was your employer primarily a tech company/organization?\n",
            "85 Would you have felt more comfortable talking to your previous employer about your physical health or your mental health?\n",
            "86 Did you ever discuss your mental health with your previous employer?\n",
            "87 Describe the conversation you had with your previous employer about your mental health, including their reactions and actions taken to address your mental health issue/questions.\n",
            "88 Did you ever discuss your mental health with a previous coworker(s)?\n",
            "89 Describe the conversation you had with your previous coworkers about your mental health including their reactions.\n",
            "90 Did you ever have a previous coworker discuss their or another coworker's mental health with you?\n",
            "91 Describe the conversation your coworker had with you about their mental health (please do not use names)..1\n",
            "92 Overall, how much importance did your previous employer place on physical health?\n",
            "93 Overall, how much importance did your previous employer place on mental health?\n",
            "94 Are you openly identified at work as a person with a mental health issue?\n",
            "95 Has being identified as a person with a mental health issue affected your career?\n",
            "96 How has it affected your career?\n",
            "97 If they knew you suffered from a mental health disorder, how do you think that your team members/co-workers would react?\n",
            "98 Describe the circumstances of the badly handled or unsupportive response.\n",
            "99 Have you observed or experienced supportive or well handled response to a mental health issue in your current or previous workplace?\n",
            "100 Describe the circumstances of the supportive or well handled response.\n",
            "101 Overall, how well do you think the tech industry supports employees with mental health issues?\n",
            "102 Briefly describe what you think the industry as a whole and/or employers could do to improve mental health support for employees.\n",
            "103 If there is anything else you would like to tell us that has not been covered by the survey questions, please use this space to do so.\n",
            "104 Would you be willing to talk to one of us more extensively about your experiences with mental health issues in the tech industry? (Note that all interview responses would be used _anonymously_ and only with your permission.)\n",
            "105 What is your race?\n"
          ]
        }
      ]
    },
    {
      "cell_type": "markdown",
      "metadata": {
        "id": "BykDfT2hfIoH"
      },
      "source": [
        "### Count Yearly Responders"
      ]
    },
    {
      "cell_type": "code",
      "metadata": {
        "colab": {
          "base_uri": "https://localhost:8080/",
          "height": 424
        },
        "id": "EWePUnMIVFyL",
        "outputId": "cc21747f-c46a-4629-e196-b5e850a856fd"
      },
      "source": [
        "query = \"\"\"\n",
        "        SELECT SurveyID, \n",
        "              COUNT(DISTINCT UserID) AS Responders\n",
        "        FROM Answer\n",
        "        GROUP BY SurveyID\n",
        "        ORDER BY SurveyID\n",
        "        \"\"\"\n",
        "\n",
        "yearly_responders = pd.read_sql(query, conn)\n",
        "yearly_responders.to_csv('yearly_responders.csv')\n",
        "\n",
        "print(yearly_responders)\n",
        "print()\n",
        "plt.bar(yearly_responders['SurveyID'], yearly_responders['Responders'], color='teal')\n",
        "plt.title(\"Yearly Responders\")\n",
        "plt.xlabel('Year')\n",
        "plt.ylabel('Counts')\n",
        "plt.show()"
      ],
      "execution_count": 11,
      "outputs": [
        {
          "output_type": "stream",
          "name": "stdout",
          "text": [
            "   SurveyID  Responders\n",
            "0      2014        1260\n",
            "1      2016        1433\n",
            "2      2017         756\n",
            "3      2018         417\n",
            "4      2019         352\n",
            "\n"
          ]
        },
        {
          "output_type": "display_data",
          "data": {
            "image/png": "[encoded data removed]",
            "text/plain": [
              "<Figure size 432x288 with 1 Axes>"
            ]
          },
          "metadata": {
            "needs_background": "light"
          }
        }
      ]
    },
    {
      "cell_type": "markdown",
      "metadata": {
        "id": "d9LZG1ZlkUa4"
      },
      "source": [
        "### Mental Health Questions\n",
        "* (7) Have you ever sought treatment for a mental health disorder from a mental health professional?\n",
        "* (46) Have you had a mental health disorder in the past?\n",
        "* (47) Do you currently have a mental health disorder?\n",
        "* (48) Have you ever been diagnosed with a mental health disorder?\n",
        "\n",
        "For simplicity, I am going to diagnose people with mental health issues (even if it slight) using question 7 (Have you ever sought treatment for a mental health disorder from a mental health professional?). I believe just the idea of seeking treatment for mental health suggests an issue even if it is small. A lot of people go through mental health problems without seeking help so I believe this will give a better general sense of the population truly experience mental health issues. "
      ]
    },
    {
      "cell_type": "code",
      "metadata": {
        "colab": {
          "base_uri": "https://localhost:8080/",
          "height": 585
        },
        "id": "s46J8vsbi6WZ",
        "outputId": "425c5166-eeca-4ec7-8c2b-c180a3d3b5f3"
      },
      "source": [
        "query = \"\"\"\n",
        "        SELECT AnswerText as Mental_Health_Diagnosis\n",
        "        FROM Question q\n",
        "        INNER JOIN Answer as a\n",
        "          ON q.questionid = a.QuestionID \n",
        "        WHERE questiontext = 'Have you ever sought treatment for a mental health disorder from a mental health professional?'\n",
        "        \"\"\"\n",
        "mental_health_diagnosis = pd.read_sql(query, conn)\n",
        "mental_health_diagnosis['Mental_Health_Diagnosis'] = mental_health_diagnosis['Mental_Health_Diagnosis'].map({'1': 'Yes', '0': 'No'})\n",
        "mental_health_diagnosis.to_csv('mental_health_diagnosis.csv')\n",
        "\n",
        "print(\"Mental Health Diagnosis\")\n",
        "print(\"By Count\")\n",
        "print(mental_health_diagnosis['Mental_Health_Diagnosis'].value_counts(0))\n",
        "print()\n",
        "print(\"By Percentage\")\n",
        "print(mental_health_diagnosis['Mental_Health_Diagnosis'].value_counts(1))\n",
        "print()\n",
        "plt.title(\"\\nUsers Seeking Mental Health Treatment\\n\")\n",
        "sns.countplot(mental_health_diagnosis['Mental_Health_Diagnosis'], palette='Paired')\n",
        "plt.show()"
      ],
      "execution_count": 12,
      "outputs": [
        {
          "output_type": "stream",
          "name": "stdout",
          "text": [
            "Mental Health Diagnosis\n",
            "By Count\n",
            "Yes    2412\n",
            "No     1806\n",
            "Name: Mental_Health_Diagnosis, dtype: int64\n",
            "\n",
            "By Percentage\n",
            "Yes    0.571835\n",
            "No     0.428165\n",
            "Name: Mental_Health_Diagnosis, dtype: float64\n",
            "\n"
          ]
        },
        {
          "output_type": "stream",
          "name": "stderr",
          "text": [
            "/usr/local/lib/python3.7/dist-packages/seaborn/_decorators.py:43: FutureWarning: Pass the following variable as a keyword arg: x. From version 0.12, the only valid positional argument will be `data`, and passing other arguments without an explicit keyword will result in an error or misinterpretation.\n",
            "  FutureWarning\n"
          ]
        },
        {
          "output_type": "display_data",
          "data": {
            "image/png": "[encoded data removed]",
            "text/plain": [
              "<Figure size 432x288 with 1 Axes>"
            ]
          },
          "metadata": {
            "needs_background": "light"
          }
        }
      ]
    },
    {
      "cell_type": "markdown",
      "metadata": {
        "id": "ZZBMVWJOfKgV"
      },
      "source": [
        "### Gender Responses"
      ]
    },
    {
      "cell_type": "code",
      "metadata": {
        "colab": {
          "base_uri": "https://localhost:8080/",
          "height": 174
        },
        "id": "T7T3I_8UfSBS",
        "outputId": "583876a4-8b15-4abf-e5df-6f5b121c5d96"
      },
      "source": [
        "query = \"\"\"\n",
        "        WITH Gender AS (\n",
        "        SELECT UserID, \n",
        "        (CASE \n",
        "            WHEN UPPER(AnswerText) LIKE \"%FEMALE%\" THEN \"Female\"\n",
        "            WHEN UPPER(AnswerText) LIKE \"%MALE%\" THEN \"Male\"\n",
        "            WHEN UPPER(AnswerText) LIKE \"%BI%\" THEN \"Trans/Bi/Queer\"\n",
        "            WHEN UPPER(AnswerText) LIKE \"%QUEER%\" THEN \"Trans/Bi/Queer\"\n",
        "            WHEN UPPER(AnswerText) LIKE \"%TRANS%\" THEN \"Trans/Bi/Queer\"\n",
        "            ELSE \"Other\"\n",
        "        END) AS GenderTag\n",
        "        FROM Answer\n",
        "        WHERE QuestionID = 2\n",
        "        ORDER BY GenderTag\n",
        "        )\n",
        "        SELECT GenderTag, COUNT(DISTINCT UserID) AS GenderCount\n",
        "        FROM Gender\n",
        "        GROUP BY GenderTag\n",
        "        ORDER BY GenderCount\n",
        "        \"\"\"\n",
        "gender = pd.read_sql(query, conn)\n",
        "gender.to_csv('gender.csv')\n",
        "gender"
      ],
      "execution_count": 13,
      "outputs": [
        {
          "output_type": "execute_result",
          "data": {
            "text/html": [
              "<div>\n",
              "<style scoped>\n",
              "    .dataframe tbody tr th:only-of-type {\n",
              "        vertical-align: middle;\n",
              "    }\n",
              "\n",
              "    .dataframe tbody tr th {\n",
              "        vertical-align: top;\n",
              "    }\n",
              "\n",
              "    .dataframe thead th {\n",
              "        text-align: right;\n",
              "    }\n",
              "</style>\n",
              "<table border=\"1\" class=\"dataframe\">\n",
              "  <thead>\n",
              "    <tr style=\"text-align: right;\">\n",
              "      <th></th>\n",
              "      <th>GenderTag</th>\n",
              "      <th>GenderCount</th>\n",
              "    </tr>\n",
              "  </thead>\n",
              "  <tbody>\n",
              "    <tr>\n",
              "      <th>0</th>\n",
              "      <td>Trans/Bi/Queer</td>\n",
              "      <td>48</td>\n",
              "    </tr>\n",
              "    <tr>\n",
              "      <th>1</th>\n",
              "      <td>Other</td>\n",
              "      <td>80</td>\n",
              "    </tr>\n",
              "    <tr>\n",
              "      <th>2</th>\n",
              "      <td>Female</td>\n",
              "      <td>1037</td>\n",
              "    </tr>\n",
              "    <tr>\n",
              "      <th>3</th>\n",
              "      <td>Male</td>\n",
              "      <td>3053</td>\n",
              "    </tr>\n",
              "  </tbody>\n",
              "</table>\n",
              "</div>"
            ],
            "text/plain": [
              "        GenderTag  GenderCount\n",
              "0  Trans/Bi/Queer           48\n",
              "1           Other           80\n",
              "2          Female         1037\n",
              "3            Male         3053"
            ]
          },
          "metadata": {},
          "execution_count": 13
        }
      ]
    },
    {
      "cell_type": "code",
      "metadata": {
        "colab": {
          "base_uri": "https://localhost:8080/",
          "height": 294
        },
        "id": "n19NwfzVggV0",
        "outputId": "0689cb40-a1cf-4542-8731-b92053864eb2"
      },
      "source": [
        "plt.barh(gender['GenderTag'], gender['GenderCount'], color='teal')\n",
        "plt.title(\"Gender Responses\")\n",
        "plt.xlabel('Counts')\n",
        "plt.ylabel('Gender')\n",
        "plt.show()"
      ],
      "execution_count": 14,
      "outputs": [
        {
          "output_type": "display_data",
          "data": {
            "image/png": "[encoded data removed]",
            "text/plain": [
              "<Figure size 432x288 with 1 Axes>"
            ]
          },
          "metadata": {
            "needs_background": "light"
          }
        }
      ]
    },
    {
      "cell_type": "markdown",
      "metadata": {
        "id": "Yb9PoswR_G4G"
      },
      "source": [
        "* Important to note that Males overwhelmingly outnumber the other gender responses. This is not surprising as the tech industry is dominantly male.\n",
        "* Trans/Bi/Queer was binned together as the number of gender responses for each individual group was quite small"
      ]
    },
    {
      "cell_type": "code",
      "metadata": {
        "colab": {
          "base_uri": "https://localhost:8080/",
          "height": 544
        },
        "id": "--vxUfN-pjyi",
        "outputId": "bd1aa305-7eac-4544-a274-e71050470372"
      },
      "source": [
        "query = \"\"\"SELECT UserID, \n",
        "        (CASE \n",
        "            WHEN UPPER(AnswerText) LIKE \"%BI%\" THEN \"Trans/Bi/Queer\"\n",
        "            WHEN UPPER(AnswerText) LIKE \"%QUEER%\" THEN \"Trans/Bi/Queer\"\n",
        "            WHEN UPPER(AnswerText) LIKE \"%TRANS%\" THEN \"Trans/Bi/Queer\"\n",
        "            WHEN UPPER(AnswerText) LIKE \"%FEMALE%\" THEN \"Female\"\n",
        "            WHEN UPPER(AnswerText) LIKE \"%MALE%\" THEN \"Male\"\n",
        "            ELSE \"Other\"\n",
        "        END) AS GenderTag\n",
        "        FROM Answer\n",
        "        WHERE QuestionID = 2\n",
        "        \"\"\"\n",
        "gendertag = pd.read_sql(query, conn)\n",
        "mh_by_gender = df[df['questiontext']=='Have you ever sought treatment for a mental health disorder from a mental health professional?']\n",
        "mh_by_gender['GenderTag'] = gendertag['GenderTag'].values\n",
        "mh_by_gender[['AnswerText', 'GenderTag']].to_csv('mh_by_gender.csv')\n",
        "\n",
        "plt.figure(figsize=(10,6))\n",
        "plt.title(\"\\nUsers Seeking Mental Health Treatment\\n\")\n",
        "sns.countplot(x=mh_by_gender['GenderTag'], hue=mh_by_gender['AnswerText'], palette='Paired')\n",
        "plt.legend([\"Yes\",\"No\"], loc='upper right')\n",
        "plt.xlabel(\"Gender\")\n",
        "plt.show()"
      ],
      "execution_count": 15,
      "outputs": [
        {
          "output_type": "stream",
          "name": "stderr",
          "text": [
            "/usr/local/lib/python3.7/dist-packages/ipykernel_launcher.py:15: SettingWithCopyWarning: \n",
            "A value is trying to be set on a copy of a slice from a DataFrame.\n",
            "Try using .loc[row_indexer,col_indexer] = value instead\n",
            "\n",
            "See the caveats in the documentation: https://pandas.pydata.org/pandas-docs/stable/user_guide/indexing.html#returning-a-view-versus-a-copy\n",
            "  from ipykernel import kernelapp as app\n"
          ]
        },
        {
          "output_type": "display_data",
          "data": {
            "image/png": "[encoded data removed]",
            "text/plain": [
              "<Figure size 720x432 with 1 Axes>"
            ]
          },
          "metadata": {
            "needs_background": "light"
          }
        }
      ]
    },
    {
      "cell_type": "markdown",
      "metadata": {
        "id": "VccJNv5S_0Mb"
      },
      "source": [
        "* The overwhelming majority of Females (73% vs 27%) reported experiencing mental health issues \n",
        "* There seems to be an even split among Males (51% vs 49%) reporting mental health issues\n",
        "* The overwhelming majority of Trans/Bi/Queer individuals (89% vs 11%) reported experiencing mental health issues"
      ]
    },
    {
      "cell_type": "code",
      "metadata": {
        "colab": {
          "base_uri": "https://localhost:8080/"
        },
        "id": "2onBJnVaw0Ik",
        "outputId": "7440f548-ba1a-44e8-c065-265e27f0308d"
      },
      "source": [
        "# Counts and Percentages of Mental Health Diagnosis by Gender\n",
        "gender_list = mh_by_gender['GenderTag'].value_counts().index\n",
        "for gender in gender_list:\n",
        "  print(gender)\n",
        "  print(\"By Count:\")\n",
        "  print(mh_by_gender[mh_by_gender['GenderTag']==gender]['AnswerText'].value_counts(0))\n",
        "  print(\"By Percentage:\")\n",
        "  print(mh_by_gender[mh_by_gender['GenderTag']==gender]['AnswerText'].value_counts(1))\n",
        "  print()"
      ],
      "execution_count": 16,
      "outputs": [
        {
          "output_type": "stream",
          "name": "stdout",
          "text": [
            "Male\n",
            "By Count:\n",
            "1    1554\n",
            "0    1497\n",
            "Name: AnswerText, dtype: int64\n",
            "By Percentage:\n",
            "1    0.509341\n",
            "0    0.490659\n",
            "Name: AnswerText, dtype: float64\n",
            "\n",
            "Female\n",
            "By Count:\n",
            "1    752\n",
            "0    279\n",
            "Name: AnswerText, dtype: int64\n",
            "By Percentage:\n",
            "1    0.729389\n",
            "0    0.270611\n",
            "Name: AnswerText, dtype: float64\n",
            "\n",
            "Other\n",
            "By Count:\n",
            "1    56\n",
            "0    24\n",
            "Name: AnswerText, dtype: int64\n",
            "By Percentage:\n",
            "1    0.7\n",
            "0    0.3\n",
            "Name: AnswerText, dtype: float64\n",
            "\n",
            "Trans/Bi/Queer\n",
            "By Count:\n",
            "1    50\n",
            "0     6\n",
            "Name: AnswerText, dtype: int64\n",
            "By Percentage:\n",
            "1    0.892857\n",
            "0    0.107143\n",
            "Name: AnswerText, dtype: float64\n",
            "\n"
          ]
        }
      ]
    },
    {
      "cell_type": "markdown",
      "metadata": {
        "id": "C0WDQRRLaoRU"
      },
      "source": [
        "### What is your age?"
      ]
    },
    {
      "cell_type": "code",
      "metadata": {
        "colab": {
          "base_uri": "https://localhost:8080/",
          "height": 294
        },
        "id": "QRWtaUHNanil",
        "outputId": "bddde7ad-1250-4d1e-b45e-05b286b2a58d"
      },
      "source": [
        "query = \"\"\"\n",
        "        SELECT CAST(AnswerText AS INT) AS Age\n",
        "        FROM Answer\n",
        "        JOIN Question \n",
        "        ON Answer.QuestionID = Question.questionid\n",
        "        WHERE questiontext LIKE 'What is your age?'\n",
        "        AND Age > 0 AND Age < 80\n",
        "        \"\"\"\n",
        "agerange = pd.read_sql(query, conn)\n",
        "plt.title('Distribution of Ages')\n",
        "sns.histplot(agerange['Age'], bins=20, palette='Paired')\n",
        "plt.show()"
      ],
      "execution_count": 17,
      "outputs": [
        {
          "output_type": "display_data",
          "data": {
            "image/png": "[encoded data removed]",
            "text/plain": [
              "<Figure size 432x288 with 1 Axes>"
            ]
          },
          "metadata": {
            "needs_background": "light"
          }
        }
      ]
    },
    {
      "cell_type": "code",
      "metadata": {
        "colab": {
          "base_uri": "https://localhost:8080/",
          "height": 526
        },
        "id": "XxzitODGkpHU",
        "outputId": "d25cd8a6-f474-456e-c262-ed884077af49"
      },
      "source": [
        "query = \"\"\"\n",
        "        SELECT UserID, \n",
        "              (CASE\n",
        "                    WHEN AnswerText <= 25 THEN \"18-25\"\n",
        "                    WHEN AnswerText > 25 AND AnswerText <= 30 THEN \"26-30\"\n",
        "                    WHEN AnswerText > 30 AND AnswerText <= 35 THEN \"31-35\"\n",
        "                    WHEN AnswerText > 35 AND AnswerText <= 40 THEN \"36-40\"\n",
        "                    WHEN AnswerText > 40 AND AnswerText <= 45 THEN \"41-45\"\n",
        "                    WHEN AnswerText > 45 AND AnswerText <= 50 THEN \"46-50\"\n",
        "                    WHEN AnswerText > 50 AND AnswerText <= 55 THEN \"51-55\"\n",
        "                    WHEN AnswerText > 55 AND AnswerText <= 60 THEN \"56-60\"\n",
        "                    WHEN AnswerText > 60 AND AnswerText <= 65 THEN \"61-65\"\n",
        "                    WHEN AnswerText > 65 AND AnswerText <= 70 THEN \"66-70\"\n",
        "                    ELSE \"Other\"\n",
        "              END) AS AgeGroup\n",
        "        FROM Answer\n",
        "        WHERE QuestionID = 1\n",
        "        \"\"\"\n",
        "\n",
        "AgeGroup_df = pd.read_sql(query, conn)\n",
        "\n",
        "mh_by_agegroup = df[df['questiontext']=='Have you ever sought treatment for a mental health disorder from a mental health professional?']\n",
        "mh_by_agegroup['AgeGroup'] = AgeGroup_df['AgeGroup'].values\n",
        "agegroup_list = mh_by_agegroup['AgeGroup'].value_counts().index\n",
        "bin_order = ['18-25', '26-30', '31-35','36-40','41-45','46-50','51-55','56-60','61-65','66-70','Other']\n",
        "\n",
        "plt.figure(figsize=(10,6))\n",
        "plt.title(\"\\nUsers Seeking Mental Health Treatment\\n\")\n",
        "sns.countplot(x=mh_by_agegroup['AgeGroup'], hue=mh_by_agegroup['AnswerText'], palette='Paired', order=bin_order)\n",
        "plt.legend(['Yes','No'], loc='upper right')\n",
        "plt.show()"
      ],
      "execution_count": 18,
      "outputs": [
        {
          "output_type": "stream",
          "name": "stderr",
          "text": [
            "/usr/local/lib/python3.7/dist-packages/ipykernel_launcher.py:23: SettingWithCopyWarning: \n",
            "A value is trying to be set on a copy of a slice from a DataFrame.\n",
            "Try using .loc[row_indexer,col_indexer] = value instead\n",
            "\n",
            "See the caveats in the documentation: https://pandas.pydata.org/pandas-docs/stable/user_guide/indexing.html#returning-a-view-versus-a-copy\n"
          ]
        },
        {
          "output_type": "display_data",
          "data": {
            "image/png": "[encoded data removed]",
            "text/plain": [
              "<Figure size 720x432 with 1 Axes>"
            ]
          },
          "metadata": {
            "needs_background": "light"
          }
        }
      ]
    },
    {
      "cell_type": "markdown",
      "metadata": {
        "id": "EKbdmk_yAg8N"
      },
      "source": [
        "* Looks like mental health issues affect every age group "
      ]
    },
    {
      "cell_type": "code",
      "metadata": {
        "id": "Ho1AW2Z5OpQ5"
      },
      "source": [
        "# Close connection to db\n",
        "conn.close()"
      ],
      "execution_count": 19,
      "outputs": []
    },
    {
      "cell_type": "markdown",
      "metadata": {
        "id": "Luepy9qkAsWB"
      },
      "source": [
        "### Conclusion\n",
        "It is clear that mental health issues can affect any individual regardless of age and gender. What is alarming is that the groups that are seemingly mostly affected are minority and underrepresented groups. I believe it is important for employers to understand the affects of mental health among their employees. Having a proactive mindset to combat a lot of the problems that affect mental health which can help create a healthier, productive environment in the workplace. \n",
        "\n",
        "#### Further thoughts\n",
        "There are many questions left to answer especially with this dataset (there are over 100 questions!). It would be very interesting to look at the other the analysis of other responses such as mental health by race, size of the company, and country they live/work in. "
      ]
    },
    {
      "cell_type": "code",
      "metadata": {
        "id": "u102iN_DB9-R"
      },
      "source": [
        ""
      ],
      "execution_count": 19,
      "outputs": []
    }
  ]
}